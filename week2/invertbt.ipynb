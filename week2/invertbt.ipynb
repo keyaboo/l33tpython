{
 "cells": [
  {
   "cell_type": "code",
   "execution_count": null,
   "metadata": {},
   "outputs": [],
   "source": [
    "# Definition for a binary tree node.\n",
    "# class TreeNode(object):\n",
    "#     def __init__(self, val=0, left=None, right=None):\n",
    "#         self.val = val\n",
    "#         self.left = left\n",
    "#         self.right = right\n",
    "class Solution(object):\n",
    "    def invertTree(self, root):\n",
    "        \"\"\"\n",
    "        :type root: TreeNode\n",
    "        :rtype: TreeNode\n",
    "        \"\"\"\n",
    "        self.invert(root)\n",
    "        return root\n",
    "\n",
    "    def invert(self, node):\n",
    "        if node is None:\n",
    "            return\n",
    "        tmp = node.left\n",
    "        node.left = node.right\n",
    "        node.right = tmp\n",
    "        self.invert(node.left)\n",
    "        self.invert(node.right)"
   ]
  },
  {
   "cell_type": "markdown",
   "metadata": {},
   "source": [
    "get that daily in.\n",
    "in doing this too quickly:\n",
    "forgot to have *any* return for invertTree\n",
    "assigned tmp on rhs"
   ]
  }
 ],
 "metadata": {
  "language_info": {
   "name": "python"
  }
 },
 "nbformat": 4,
 "nbformat_minor": 2
}
