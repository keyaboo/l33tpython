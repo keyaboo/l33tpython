{
 "cells": [
  {
   "cell_type": "code",
   "execution_count": null,
   "metadata": {},
   "outputs": [],
   "source": [
    "class Solution(object):\n",
    "    def isAnagram(self, s, t):\n",
    "        \"\"\"\n",
    "        :type s: str\n",
    "        :type t: str\n",
    "        :rtype: bool\n",
    "        \"\"\"\n",
    "        s_letters = []\n",
    "        t_letters = []\n",
    "        s_letters.extend(s)\n",
    "        t_letters.extend(t)\n",
    "        s_letters.sort()\n",
    "        t_letters.sort()\n",
    "        return True if s_letters == t_letters else False\n"
   ]
  },
  {
   "cell_type": "markdown",
   "metadata": {},
   "source": [
    "don't think about sets and hash tables. turn the words into an array and sort them.\n"
   ]
  }
 ],
 "metadata": {
  "language_info": {
   "name": "python"
  }
 },
 "nbformat": 4,
 "nbformat_minor": 2
}
