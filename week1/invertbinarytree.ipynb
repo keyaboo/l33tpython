{
 "cells": [
  {
   "cell_type": "code",
   "execution_count": 1,
   "metadata": {},
   "outputs": [],
   "source": [
    "from collections import deque\n",
    "# Definition for a binary tree node.\n",
    "class TreeNode(object):\n",
    "    def __init__(self, val=0, left=None, right=None):\n",
    "        self.val = val\n",
    "        self.left = left\n",
    "        self.right = right\n",
    "class Solution(object):\n",
    "    def invertTree(self, root):\n",
    "        \"\"\"\n",
    "        :type root: TreeNode\n",
    "        :rtype: TreeNode\n",
    "        \"\"\"\n",
    "        return self.bfs(root)\n",
    "\n",
    "\n",
    "    def bfs(node):\n",
    "        if node is None:\n",
    "            return None\n",
    "        queue = deque([node])\n",
    "        while stack:\n",
    "            curr = stack.popleft()\n",
    "            curr.left = node.right\n",
    "            curr.right = node.left\n",
    "            if node.right:\n",
    "                stack.append(node.right)\n",
    "            if node.left:\n",
    "                stack.append(node.left)\n",
    "        return node"
   ]
  },
  {
   "cell_type": "markdown",
   "metadata": {},
   "source": [
    "stack based dfs, you can do business logic for the problem right under the pop. no need for a visited set because the root and upper branches are discarded with the pops.\n",
    "\n",
    "queue is the correct data structure not stack. I'm not sure why "
   ]
  },
  {
   "cell_type": "code",
   "execution_count": null,
   "metadata": {},
   "outputs": [],
   "source": [
    "def dfs_recursive(node):\n",
    "    temp = node\n",
    "    if (temp != None):\n",
    "        temp = process_item(temp)\n",
    "        dfs_recursive(temp.left)\n",
    "        dfs_recursive(temp.right)\n",
    "    return temp\n",
    "\n",
    "def process_item(node):\n",
    "    if (node.left != None or node.right != None):\n",
    "        temp_left = node.left\n",
    "        node.left = node.right\n",
    "        node.right = temp_left\n",
    "    return node"
   ]
  }
 ],
 "metadata": {
  "kernelspec": {
   "display_name": "base",
   "language": "python",
   "name": "python3"
  },
  "language_info": {
   "codemirror_mode": {
    "name": "ipython",
    "version": 3
   },
   "file_extension": ".py",
   "mimetype": "text/x-python",
   "name": "python",
   "nbconvert_exporter": "python",
   "pygments_lexer": "ipython3",
   "version": "3.11.7"
  }
 },
 "nbformat": 4,
 "nbformat_minor": 2
}
