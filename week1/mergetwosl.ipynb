{
 "cells": [
  {
   "cell_type": "code",
   "execution_count": null,
   "metadata": {},
   "outputs": [],
   "source": [
    "# Definition for singly-linked list.\n",
    "class ListNode(object):\n",
    "    def __init__(self, val=0, next=None):\n",
    "        self.val = val\n",
    "        self.next = next\n",
    "class Solution(object):\n",
    "    def mergeTwoLists(self, list1, list2):\n",
    "        \"\"\"\n",
    "        :type list1: Optional[ListNode]\n",
    "        :type list2: Optional[ListNode]\n",
    "        :rtype: Optional[ListNode]\n",
    "        \"\"\"\n",
    "        if (list1 == None and list2 == None):\n",
    "            return None\n",
    "        if list1 is None:\n",
    "            return list2\n",
    "        elif list2 is None:\n",
    "            return list1\n",
    "        curr = ListNode()\n",
    "        head = curr\n",
    "        while (list1 != None and list2 != None):\n",
    "            if (list1.val <= list2.val):\n",
    "                curr.next = ListNode(list1.val)\n",
    "                list1 = list1.next\n",
    "            else:\n",
    "                curr.next = ListNode(list2.val)\n",
    "                list2 = list2.next\n",
    "            curr = curr.next\n",
    "        if list1 == None:\n",
    "            curr.next = list2\n",
    "        else:\n",
    "            curr.next = list1\n",
    "        return head.next"
   ]
  },
  {
   "cell_type": "markdown",
   "metadata": {},
   "source": [
    "merge the two into one sorted list. there's some trick to check if one of the \n",
    "questions:\n",
    "case when they're both null - return null\n",
    "case when one is null - return the not null one\n",
    "case when they're both not null - create 2 new listnodes head and curr. compare vals of list1 and list2, progress whichever list 1 or 2 has the lower val. reassign curr otherwise you'll just get one listnode. when kicked out of loop the process take the logic from case 2 except for curr"
   ]
  }
 ],
 "metadata": {
  "language_info": {
   "name": "python"
  }
 },
 "nbformat": 4,
 "nbformat_minor": 2
}
