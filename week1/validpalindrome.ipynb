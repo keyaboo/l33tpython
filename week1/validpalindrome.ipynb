{
 "cells": [
  {
   "cell_type": "code",
   "execution_count": null,
   "metadata": {},
   "outputs": [],
   "source": [
    "import re\n",
    "from collections import deque\n",
    "\n",
    "class Solution(object):\n",
    "    def isPalindrome(self, s):\n",
    "        \"\"\"\n",
    "        :type s: str\n",
    "        :rtype: bool\n",
    "        \"\"\"\n",
    "        queue = deque()\n",
    "        pattern = r'[^a-zA-Z0-9]'\n",
    "        cleaned = re.sub(pattern, '', s)\n",
    "        cleaned = cleaned.lower()\n",
    "        for idx in range(len(cleaned)):\n",
    "            queue.append(cleaned[idx])\n",
    "        for idx in range(len(cleaned)):\n",
    "            char = queue.popleft()\n",
    "            if (char != cleaned[idx]):\n",
    "                return False\n",
    "        return True"
   ]
  },
  {
   "cell_type": "markdown",
   "metadata": {},
   "source": [
    "case: account for multiple versions of the same character.\n",
    "could do two loops once forward to load the stack once backward to compare whether every popped element is the same"
   ]
  }
 ],
 "metadata": {
  "language_info": {
   "name": "python"
  }
 },
 "nbformat": 4,
 "nbformat_minor": 2
}
