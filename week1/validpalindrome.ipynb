{
 "cells": [
  {
   "cell_type": "code",
   "execution_count": null,
   "metadata": {},
   "outputs": [],
   "source": [
    "import re\n",
    "\n",
    "class Solution(object):\n",
    "    def isPalindrome(self, s):\n",
    "        \"\"\"\n",
    "        :type s: str\n",
    "        :rtype: bool\n",
    "        \"\"\"\n",
    "        pattern = r'[^a-zA-Z0-9]'\n",
    "        cleaned = re.sub(pattern, '', s)\n",
    "        cleaned = cleaned.lower()\n",
    "        far_pointer = len(cleaned) - 1\n",
    "        for idx, char in enumerate(cleaned):\n",
    "            if char != cleaned[far_pointer]:\n",
    "                return False\n",
    "            far_pointer-=1\n",
    "        return True"
   ]
  },
  {
   "cell_type": "markdown",
   "metadata": {},
   "source": [
    "case: account for multiple versions of the same character. this is trivial 2 pointer stuff not queue or stack. question what access to information you have."
   ]
  }
 ],
 "metadata": {
  "language_info": {
   "name": "python"
  }
 },
 "nbformat": 4,
 "nbformat_minor": 2
}
