{
 "cells": [
  {
   "cell_type": "code",
   "execution_count": null,
   "metadata": {},
   "outputs": [],
   "source": [
    "class Solution(object):\n",
    "    def maxProfit(self, prices):\n",
    "        \"\"\"\n",
    "        :type prices: List[int]\n",
    "        :rtype: int\n",
    "        \"\"\"\n",
    "        lowest = prices[0]\n",
    "        max_profit = 0\n",
    "        for idx, num in enumerate(prices):\n",
    "            if (num <= lowest):\n",
    "                lowest = num\n",
    "                continue\n",
    "            diff = num - lowest\n",
    "            if (diff >= max_profit):\n",
    "                max_profit = diff\n",
    "        return max_profit"
   ]
  },
  {
   "cell_type": "markdown",
   "metadata": {},
   "source": [
    "have 1 variable lowest set originally to first value and 1 variable maxprofit. calculate num - lowest and compare that difference to current maxprofit, which if that happens to be higher than existing maxprofit reassign"
   ]
  }
 ],
 "metadata": {
  "language_info": {
   "name": "python"
  }
 },
 "nbformat": 4,
 "nbformat_minor": 2
}
