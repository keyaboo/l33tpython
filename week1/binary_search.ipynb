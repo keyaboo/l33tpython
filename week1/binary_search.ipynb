{
 "cells": [
  {
   "cell_type": "code",
   "execution_count": null,
   "metadata": {},
   "outputs": [],
   "source": [
    "class Solution(object):\n",
    "    def search(self, nums, target):\n",
    "        \"\"\"\n",
    "        :type nums: List[int]\n",
    "        :type target: int\n",
    "        :rtype: int\n",
    "        \"\"\"\n",
    "        min = 0\n",
    "        max = len(nums) - 1\n",
    "        while (min <= max):\n",
    "            mid = min + ((max - min) // 2)\n",
    "            if nums[mid] == target:\n",
    "                return mid\n",
    "            if nums[mid] > target:\n",
    "                max = mid - 1\n",
    "            elif nums[mid] < target:\n",
    "                min = mid + 1\n",
    "        return -1\n",
    "\n",
    "\n",
    "        \n",
    "\n",
    "def binary_search_recursive(nums, min, max, target):\n",
    "    midpoint = min + ((max - min) // 2 )\n",
    "    if midpoint == min:\n",
    "        return -1\n",
    "    if nums[midpoint] == target:\n",
    "        return midpoint\n",
    "    return None # not writing this awful code again"
   ]
  },
  {
   "cell_type": "markdown",
   "metadata": {},
   "source": [
    "keep track of min, max vars originally determined by the length of the array. I think the criteria for returning -1 would be if the number is greater than max or less than min. first thing would be to calculate midpoint ( min + max - min // 2), then check to see whether the val at midpoint is greater than or less than target. if greater than, you'd call search again with the same min and your midpoint as max, if midpoint is less than, keep the same max and adjust min to be the new midpoint.\n",
    "\n",
    "the way I did this before was check lt min and gt max as one way to return negative one. then if the truncated division made midpoint equal to start, check end because it's the only other possibility being 1 away, otherwise you've exhausted your options and return -1. this is recursive and terrible.\n",
    "\n",
    "the much better way to do this is to do a while loop ensuring that low is less than or equal to high. in reassigning low and high, don't make it the old low and highs, do low and high plus or minus one. this is the condition that causes the loop to eventually fail"
   ]
  }
 ],
 "metadata": {
  "language_info": {
   "name": "python"
  }
 },
 "nbformat": 4,
 "nbformat_minor": 2
}
