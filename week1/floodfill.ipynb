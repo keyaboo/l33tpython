{
 "cells": [
  {
   "cell_type": "code",
   "execution_count": null,
   "metadata": {},
   "outputs": [],
   "source": [
    "class Solution(object):\n",
    "    def floodFill(self, image, sr, sc, color):\n",
    "        \"\"\"\n",
    "        :type image: List[List[int]]\n",
    "        :type sr: int\n",
    "        :type sc: int\n",
    "        :type color: int\n",
    "        :rtype: List[List[int]]\n",
    "        \"\"\"\n",
    "        visited = [(sr, sc)]\n",
    "        starting_color = image[sr][sc]\n",
    "        dfs(image, sr, sc, color, starting_color, visited)\n",
    "        return image\n",
    "\n",
    "def dfs(image, sr, sc, color, starting_color, visited):\n",
    "    if (sr, sc) in visited:\n",
    "        return\n",
    "    if (sr > len(image) or sr < 0 or sc > len(image[0]) or sc < 0):\n",
    "        return \n",
    "    if image[sr][sc] == starting_color:\n",
    "        image[sr][sc] = color\n",
    "    if (sr + 1) < len(image): \n",
    "        dfs(image, sr + 1, sc, color, starting_color, visited)\n",
    "    if (sr - 1) >= 0:\n",
    "        dfs(image, sr - 1, sc, color, starting_color, visited)\n",
    "    if (sc + 1) < len(image[0]):\n",
    "        dfs(image, sr, sc, color, starting_color, visited)\n",
    "    if (sc - 1) <= 0:\n",
    "        dfs(image, sr, sc - 1, color, starting_color, visited)\n",
    "    \n",
    "\n"
   ]
  },
  {
   "cell_type": "markdown",
   "metadata": {},
   "source": [
    "I remembered for dfs it's always wise to have a way of storing visited. I think for this problem you just return the original image that was manipulated by the dfs function.\n",
    "rather than checking that the you can't call the function illegally, a solution had a check at the beginning of the function to ensure that no recoloring was performed on arrays out of boundary."
   ]
  },
  {
   "cell_type": "markdown",
   "metadata": {},
   "source": [
    "things messed up:\n",
    "it's not image.length it's len(image) or len(image)\n",
    "dfs shouldn't return anything - reiterate this point.\n",
    "ok what is dfs trying to return: nothing\n",
    "can keep track of previously traversed with checking whether the check of whether image[sr][sc] at any dfs call is the original color or not.\n",
    "6 checks: 4 out of bounds and 2 checks, one to see whether the color has already been changed\n",
    "image[sr][sc] = color\n",
    "and the other as to whether the (changing original 1's to 2 but finds a 0) index'd color actually equal to the original image[sr][sc] or not."
   ]
  },
  {
   "cell_type": "code",
   "execution_count": null,
   "metadata": {},
   "outputs": [],
   "source": [
    "class Solution(object):\n",
    "    def floodFill(self, image, sr, sc, color):\n",
    "        \"\"\"\n",
    "        :type image: List[List[int]]\n",
    "        :type sr: int\n",
    "        :type sc: int\n",
    "        :type color: int\n",
    "        :rtype: List[List[int]]\n",
    "        \"\"\"\n",
    "        return dfs(image, sr, sc, color, image[sr][sc])    \n",
    "\n",
    "\n",
    "def dfs(image, sr, sc, color, original):\n",
    "    if sr < 0 or sr > len(image) or sc < 0 or sc > len(image):\n",
    "        return\n",
    "    if original != image[sr][sc] or image[sr][sc] = color:\n",
    "        return\n",
    "    dfs(image, sr+1, sc, color, original)\n",
    "    dfs(image, sr-1, sc, color, original)\n",
    "    dfs(image, sr, sc-1, color, original)\n",
    "    dfs(image, sr, sc+1, color, original)"
   ]
  }
 ],
 "metadata": {
  "language_info": {
   "name": "python"
  }
 },
 "nbformat": 4,
 "nbformat_minor": 2
}
