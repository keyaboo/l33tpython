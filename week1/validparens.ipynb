{
 "cells": [
  {
   "cell_type": "code",
   "execution_count": null,
   "metadata": {},
   "outputs": [],
   "source": [
    "class Solution(object):\n",
    "    def isValid(self, s):\n",
    "        \"\"\"\n",
    "        :type s: str\n",
    "        :rtype: bool\n",
    "        \"\"\"\n",
    "        stack = []\n",
    "        for idx, char in enumerate(s):\n",
    "            if char == '(':\n",
    "                stack.append(')')\n",
    "            elif char == '[':\n",
    "                stack.append(']')\n",
    "            elif char == '{':\n",
    "                stack.append('}')\n",
    "            else:\n",
    "                if char == stack[-1]:\n",
    "                    stack.pop()\n",
    "                else:\n",
    "                    return False\n",
    "            return True"
   ]
  },
  {
   "cell_type": "markdown",
   "metadata": {},
   "source": [
    "I was thinking that you'd only add opening characters to the stack, and when you get to closing characters you'd have to check if the stack was empty and the the top of the stack matched corresponding character that you'd pop off the stack.\n",
    "\n",
    "Better is to push opposite characters onto the stack."
   ]
  }
 ],
 "metadata": {
  "language_info": {
   "name": "python"
  }
 },
 "nbformat": 4,
 "nbformat_minor": 2
}
